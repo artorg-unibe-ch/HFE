{
 "cells": [
  {
   "cell_type": "code",
   "execution_count": 1,
   "metadata": {},
   "outputs": [],
   "source": [
    "import numpy as np"
   ]
  },
  {
   "cell_type": "code",
   "execution_count": 3,
   "metadata": {},
   "outputs": [
    {
     "name": "stdout",
     "output_type": "stream",
     "text": [
      "Worst: 0.5405652173913043\n",
      "Avg: 0.8629565217391303\n",
      "Best: 0.992608695652174\n"
     ]
    }
   ],
   "source": [
    "worst = np.array([0.653, 0.58, 0.546, 0.463, 0.484, 0.227, 0.597, 0.537, 0.607, 0.614, 0.617, 0.555, 0.563, 0.604, 0.358, 0.583, 0.472, 0.511, 0.594, 0.658, 0.658, 0.573, 0.379])\n",
    "avg   = np.array([0.862,0.846,0.892,0.842,0.866,0.89,0.89,0.876,0.861,0.858,0.856,0.846,0.851,0.856,0.854,0.853,0.857,0.85,0.856,0.862,0.862,0.857,0.905])\n",
    "best  = np.array([0.974, 0.999, 0.989, 0.996, 0.979, 0.989, 0.997, 0.996,     1, 0.997, 0.998, 0.994, 0.995, 0.995, 0.996, 0.999, 0.998,  0.99, 0.999, 0.981, 0.981, 0.999, 0.989])\n",
    "\n",
    "worst_avg = np.mean(worst)\n",
    "avg_avg = np.mean(avg)\n",
    "best_avg = np.mean(best)\n",
    "\n",
    "print(f'Worst: {worst_avg}')\n",
    "print(f'Avg: {avg_avg}')\n",
    "print(f'Best: {best_avg}')"
   ]
  }
 ],
 "metadata": {
  "kernelspec": {
   "display_name": "hfe-accurate",
   "language": "python",
   "name": "python3"
  },
  "language_info": {
   "codemirror_mode": {
    "name": "ipython",
    "version": 3
   },
   "file_extension": ".py",
   "mimetype": "text/x-python",
   "name": "python",
   "nbconvert_exporter": "python",
   "pygments_lexer": "ipython3",
   "version": "3.9.16"
  }
 },
 "nbformat": 4,
 "nbformat_minor": 2
}
