{
 "cells": [
  {
   "cell_type": "code",
   "execution_count": 1,
   "metadata": {},
   "outputs": [],
   "source": [
    "import numpy as np"
   ]
  },
  {
   "cell_type": "code",
   "execution_count": 4,
   "metadata": {},
   "outputs": [
    {
     "name": "stdout",
     "output_type": "stream",
     "text": [
      "Worst: 0.5405652173913043, ±0.10292370584541126\n",
      "Avg: 0.8629565217391303, ±0.016158126938558545\n",
      "Best: 0.992608695652174, ±0.007251621290591167\n"
     ]
    },
    {
     "data": {
      "image/png": "[encoded data removed]",
      "text/plain": [
       "<Figure size 640x480 with 1 Axes>"
      ]
     },
     "metadata": {},
     "output_type": "display_data"
    }
   ],
   "source": [
    "# I copied these values from the .log output of the meshing script for all the cases\n",
    "worst = np.array([0.653, 0.58, 0.546, 0.463, 0.484, 0.227, 0.597, 0.537, 0.607, 0.614, 0.617, 0.555, 0.563, 0.604, 0.358, 0.583, 0.472, 0.511, 0.594, 0.658, 0.658, 0.573, 0.379])\n",
    "avg   = np.array([0.862,0.846,0.892,0.842,0.866,0.89,0.89,0.876,0.861,0.858,0.856,0.846,0.851,0.856,0.854,0.853,0.857,0.85,0.856,0.862,0.862,0.857,0.905])\n",
    "best  = np.array([0.974, 0.999, 0.989, 0.996, 0.979, 0.989, 0.997, 0.996,     1, 0.997, 0.998, 0.994, 0.995, 0.995, 0.996, 0.999, 0.998,  0.99, 0.999, 0.981, 0.981, 0.999, 0.989])\n",
    "\n",
    "worst_avg = np.mean(worst)\n",
    "avg_avg = np.mean(avg)\n",
    "best_avg = np.mean(best)\n",
    "\n",
    "worst_std = np.std(worst)\n",
    "avg_std = np.std(avg)\n",
    "best_std = np.std(best)\n",
    "\n",
    "print(f'Worst: {worst_avg}, ±{worst_std}')\n",
    "print(f'Avg: {avg_avg}, ±{avg_std}')\n",
    "print(f'Best: {best_avg}, ±{best_std}')\n",
    "\n",
    "import matplotlib.pyplot as plt\n",
    "plt.figure()\n",
    "plt.hist(worst, bins=5, alpha=0.5, label='Worst')\n",
    "plt.hist(avg, bins=5, alpha=0.5, label='Avg')\n",
    "plt.hist(best, bins=5, alpha=0.5, label='Best')\n",
    "plt.show()"
   ]
  },
  {
   "cell_type": "code",
   "execution_count": null,
   "metadata": {},
   "outputs": [],
   "source": []
  }
 ],
 "metadata": {
  "kernelspec": {
   "display_name": "hfe-accurate",
   "language": "python",
   "name": "python3"
  },
  "language_info": {
   "codemirror_mode": {
    "name": "ipython",
    "version": 3
   },
   "file_extension": ".py",
   "mimetype": "text/x-python",
   "name": "python",
   "nbconvert_exporter": "python",
   "pygments_lexer": "ipython3",
   "version": "3.9.16"
  }
 },
 "nbformat": 4,
 "nbformat_minor": 2
}
