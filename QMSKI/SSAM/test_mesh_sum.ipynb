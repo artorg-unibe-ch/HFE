{
 "cells": [
  {
   "cell_type": "code",
   "execution_count": 1,
   "metadata": {},
   "outputs": [],
   "source": [
    "import pyvista as pv\n",
    "from pathlib import Path"
   ]
  },
  {
   "cell_type": "code",
   "execution_count": 2,
   "metadata": {},
   "outputs": [],
   "source": [
    "# 1. load all the meshes\n",
    "base_path = Path('/home/simoneponcioni/Documents/01_PHD/04_Output-Reports-Presentations-Publications/HFE-RESULTS/strain-distribution/20240722')\n",
    "mesh_paths = [mesh for mesh in base_path.rglob('*.vtu')]"
   ]
  },
  {
   "cell_type": "code",
   "execution_count": 3,
   "metadata": {},
   "outputs": [],
   "source": [
    "# create a loop and extract the cell data LE_Centroid for each mesh\n",
    "LE_centroids = []\n",
    "for mesh_path in mesh_paths:\n",
    "    mesh = pv.read(mesh_path)\n",
    "    # LE_centroids.append(mesh.cell_data['LE_Centroid'])\n",
    "    LE_centroids.append(mesh.cell_data['SDV_DMG_Centroid'])"
   ]
  },
  {
   "cell_type": "code",
   "execution_count": 4,
   "metadata": {},
   "outputs": [],
   "source": [
    "# now we have a list of LE_centroids, we can create a new mesh with the average LE_centroid\n",
    "average_LE_centroid = sum(LE_centroids) / len(LE_centroids)\n",
    "# we can apply the average LE_centroid to the mesh\n",
    "ssm_path = Path('/home/simoneponcioni/Documents/01_PHD/03_Methods/Meshing/Meshing/03_MESH/tibia-ssm/tibia-ssm.vtk')\n",
    "mesh = pv.read(ssm_path)\n",
    "mesh.cell_data['LE_Centroid_avg'] = average_LE_centroid\n",
    "mesh.save('/home/simoneponcioni/Documents/01_PHD/03_Methods/HFE/QMSKI/SSAM/tibia_ssm_DMG_centroid.vtu')"
   ]
  },
  {
   "cell_type": "code",
   "execution_count": 3,
   "metadata": {},
   "outputs": [
    {
     "name": "stdout",
     "output_type": "stream",
     "text": [
      "['COORD_Centroid', 'COORD_IntegrationPoints', 'LE_Centroid', 'LE_IntegrationPoints', 'S_Centroid', 'S_IntegrationPoints', 'SDV_BVTVC_Centroid', 'SDV_BVTVC_IntegrationPoints', 'SDV_BVTVT_Centroid', 'SDV_BVTVT_IntegrationPoints', 'SDV_DMG_Centroid', 'SDV_DMG_IntegrationPoints', 'SDV_F11_Centroid', 'SDV_F11_IntegrationPoints', 'SDV_F12_Centroid', 'SDV_F12_IntegrationPoints', 'SDV_F13_Centroid', 'SDV_F13_IntegrationPoints', 'SDV_F21_Centroid', 'SDV_F21_IntegrationPoints', 'SDV_F22_Centroid', 'SDV_F22_IntegrationPoints', 'SDV_F23_Centroid', 'SDV_F23_IntegrationPoints', 'SDV_F31_Centroid', 'SDV_F31_IntegrationPoints', 'SDV_F32_Centroid', 'SDV_F32_IntegrationPoints', 'SDV_F33_Centroid', 'SDV_F33_IntegrationPoints', 'SDV_OFVALUE_Centroid', 'SDV_OFVALUE_IntegrationPoints', 'SDV_PBVC_Centroid', 'SDV_PBVC_IntegrationPoints', 'SDV_PBVT_Centroid', 'SDV_PBVT_IntegrationPoints', 'SENER_Centroid', 'SENER_IntegrationPoints', 'Material_Orientation']\n",
      "[1.4458955e+01 1.3278940e+01 1.0874437e+01 ... 2.8786664e-03 2.4832610e-02\n",
      " 2.4870580e-02]\n"
     ]
    }
   ],
   "source": [
    "# TESTING\n",
    "import pyvista as pv\n",
    "mesh = pv.read('/home/simoneponcioni/Desktop/energy_density/Step-Compression_23.vtu')\n",
    "# print all cell data\n",
    "print(mesh.cell_data.keys())\n",
    "\n",
    "print(mesh.cell_data['SENER_Centroid'])"
   ]
  }
 ],
 "metadata": {
  "kernelspec": {
   "display_name": "hfe-accurate",
   "language": "python",
   "name": "python3"
  },
  "language_info": {
   "codemirror_mode": {
    "name": "ipython",
    "version": 3
   },
   "file_extension": ".py",
   "mimetype": "text/x-python",
   "name": "python",
   "nbconvert_exporter": "python",
   "pygments_lexer": "ipython3",
   "version": "3.9.16"
  }
 },
 "nbformat": 4,
 "nbformat_minor": 2
}
