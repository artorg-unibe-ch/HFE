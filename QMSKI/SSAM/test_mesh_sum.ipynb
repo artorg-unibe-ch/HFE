{
 "cells": [
  {
   "cell_type": "code",
   "execution_count": 21,
   "metadata": {},
   "outputs": [],
   "source": [
    "import pyvista as pv\n",
    "from pathlib import Path"
   ]
  },
  {
   "cell_type": "code",
   "execution_count": 22,
   "metadata": {},
   "outputs": [],
   "source": [
    "# 1. load all the meshes\n",
    "base_path = Path('/home/simoneponcioni/Documents/01_PHD/04_Output-Reports-Presentations-Publications/HFE-RESULTS/strain-distribution/20240722')\n",
    "mesh_paths = [mesh for mesh in base_path.rglob('*.vtu')]"
   ]
  },
  {
   "cell_type": "code",
   "execution_count": 23,
   "metadata": {},
   "outputs": [],
   "source": [
    "# create a loop and extract the cell data LE_Centroid for each mesh\n",
    "LE_centroids = []\n",
    "for mesh_path in mesh_paths:\n",
    "    mesh = pv.read(mesh_path)\n",
    "    LE_centroids.append(mesh.cell_data['LE_Centroid'])\n"
   ]
  },
  {
   "cell_type": "code",
   "execution_count": 25,
   "metadata": {},
   "outputs": [],
   "source": [
    "# now we have a list of LE_centroids, we can create a new mesh with the average LE_centroid\n",
    "average_LE_centroid = sum(LE_centroids) / len(LE_centroids)\n",
    "# we can apply the average LE_centroid to the mesh\n",
    "mesh = pv.read(mesh_paths[5])\n",
    "mesh.cell_data['LE_Centroid_avg'] = average_LE_centroid\n",
    "mesh.save('/home/simoneponcioni/Documents/01_PHD/03_Methods/HFE/QMSKI/SSAM/average_LE_centroid.vtu')"
   ]
  }
 ],
 "metadata": {
  "kernelspec": {
   "display_name": "hfe-accurate",
   "language": "python",
   "name": "python3"
  },
  "language_info": {
   "codemirror_mode": {
    "name": "ipython",
    "version": 3
   },
   "file_extension": ".py",
   "mimetype": "text/x-python",
   "name": "python",
   "nbconvert_exporter": "python",
   "pygments_lexer": "ipython3",
   "version": "3.9.16"
  }
 },
 "nbformat": 4,
 "nbformat_minor": 2
}
