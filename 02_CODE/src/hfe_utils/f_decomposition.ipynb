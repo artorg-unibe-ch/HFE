{
 "cells": [
  {
   "cell_type": "code",
   "execution_count": 22,
   "metadata": {},
   "outputs": [],
   "source": [
    "from pathlib import Path\n",
    "import vtk\n",
    "import numpy as np"
   ]
  },
  {
   "cell_type": "code",
   "execution_count": 23,
   "metadata": {},
   "outputs": [],
   "source": [
    "def read_vtu(filepath):\n",
    "    stepCompression_6vtu = vtk.vtkXMLUnstructuredGridReader()\n",
    "    stepCompression_6vtu.SetFileName(str(filepath))\n",
    "    stepCompression_6vtu.Update()\n",
    "    output_compression = stepCompression_6vtu.GetOutput()\n",
    "    return output_compression\n",
    "\n",
    "filepath = Path('/home/simoneponcioni/Documents/01_PHD/03_Methods/HFE/99_TEMP/damage_maps/C0003091_02/Step-Compression_4.vtu')\n",
    "output_compression = read_vtu(filepath)"
   ]
  },
  {
   "cell_type": "code",
   "execution_count": 35,
   "metadata": {},
   "outputs": [
    {
     "data": {
      "text/plain": [
       "1"
      ]
     },
     "execution_count": 35,
     "metadata": {},
     "output_type": "execute_result"
    }
   ],
   "source": [
    "def decomposition(JacobianArray):\n",
    "    SphericalCompression = np.zeros(JacobianArray.shape[-1])\n",
    "    IsovolumicDeformation = np.zeros(JacobianArray.shape[-1])\n",
    "    for k in range(0, JacobianArray[0]):\n",
    "        for j in range(0, JacobianArray[1]):\n",
    "            for i in range(0, JacobianArray[2]):\n",
    "\n",
    "                F_d = JacobianArray[k, j, i, :].reshape((3, 3))\n",
    "\n",
    "                ## Unimodular decomposition of F\n",
    "                J = np.linalg.det(F_d)\n",
    "                SphericalCompression[k, j, i] = J\n",
    "\n",
    "                if J > 0:\n",
    "                    F_tilde = J ** (-1 / 3) * F_d\n",
    "                    Norm_F_tilde = np.linalg.norm(F_tilde)\n",
    "                else:\n",
    "                    Norm_F_tilde = 0.0\n",
    "\n",
    "                IsovolumicDeformation[k, j, i] = Norm_F_tilde\n",
    "    return SphericalCompression, IsovolumicDeformation\n",
    "\n",
    "def decomposition_simone(F):\n",
    "    spherical_compression = np.zeros(F.shape[-1])\n",
    "    isovolumic_deformation = np.zeros(F.shape[-1])\n",
    "    for i in range(F.shape[-1]):\n",
    "        spherical_compression[i] = np.linalg.det(F[:, :, i])\n",
    "        if spherical_compression[i] > 0:\n",
    "            F_tilde = spherical_compression[i] ** (-1 / 3) * F[:, :, i]\n",
    "            isovolumic_deformation[i] = np.linalg.norm(F_tilde)\n",
    "        else:\n",
    "            isovolumic_deformation[i] = 0.0\n",
    "    return spherical_compression, isovolumic_deformation\n",
    "\n",
    "\n",
    "arrays = output_compression.GetCellData()\n",
    "centroid_arrays = {arrays.GetArrayName(i): arrays.GetArray(i) for i in range(arrays.GetNumberOfArrays()) if 'Centroid' in arrays.GetArrayName(i)}\n",
    "\n",
    "ones_array = np.ones(centroid_arrays['SDV_F11_Centroid'].GetNumberOfTuples())\n",
    "\n",
    "F11 = centroid_arrays['SDV_F11_Centroid']\n",
    "F12 = centroid_arrays['SDV_F12_Centroid']\n",
    "F13 = centroid_arrays['SDV_F13_Centroid']\n",
    "F21 = centroid_arrays['SDV_F21_Centroid']\n",
    "F22 = centroid_arrays['SDV_F22_Centroid']\n",
    "F23 = centroid_arrays['SDV_F23_Centroid']\n",
    "F31 = centroid_arrays['SDV_F31_Centroid']\n",
    "F32 = centroid_arrays['SDV_F32_Centroid']\n",
    "F33 = centroid_arrays['SDV_F33_Centroid']\n",
    "F = np.array([F11, F12, F13, F21, F22, F23, F31, F32, F33]).reshape(3, 3, -1)\n",
    "\n",
    "spherical_compression, isovolumic_deformation = decomposition_simone(F)\n",
    "# Create new arrays for spherical compression and isovolumic deformation\n",
    "spherical_compression_array = vtk.vtkFloatArray()\n",
    "spherical_compression_array.SetName(\"SphericalCompression\")\n",
    "isovolumic_deformation_array = vtk.vtkFloatArray()\n",
    "isovolumic_deformation_array.SetName(\"IsovolumicDeformation\")\n",
    "\n",
    "# Set the values of the arrays\n",
    "for i in range(len(spherical_compression)):\n",
    "    spherical_compression_array.InsertNextValue(spherical_compression[i])\n",
    "    isovolumic_deformation_array.InsertNextValue(isovolumic_deformation[i])\n",
    "\n",
    "# Add the arrays to the output_compression vtk unstructured grid\n",
    "output_compression.GetCellData().AddArray(spherical_compression_array)\n",
    "output_compression.GetCellData().AddArray(isovolumic_deformation_array)\n",
    "\n",
    "# Save the vtk unstructured grid with all the cell data\n",
    "writer = vtk.vtkXMLUnstructuredGridWriter()\n",
    "writer.SetFileName('/home/simoneponcioni/Documents/01_PHD/03_Methods/HFE/99_TEMP/damage_maps/C0003091_02/Step-Compression_4_with_data.vtu')\n",
    "writer.SetInputData(output_compression)\n",
    "writer.Write()\n"
   ]
  }
 ],
 "metadata": {
  "kernelspec": {
   "display_name": "testing",
   "language": "python",
   "name": "python3"
  },
  "language_info": {
   "codemirror_mode": {
    "name": "ipython",
    "version": 3
   },
   "file_extension": ".py",
   "mimetype": "text/x-python",
   "name": "python",
   "nbconvert_exporter": "python",
   "pygments_lexer": "ipython3",
   "version": "3.9.16"
  }
 },
 "nbformat": 4,
 "nbformat_minor": 2
}
